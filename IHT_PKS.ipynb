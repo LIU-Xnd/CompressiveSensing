{
 "cells": [
  {
   "cell_type": "code",
   "execution_count": 7,
   "metadata": {},
   "outputs": [
    {
     "ename": "ModuleNotFoundError",
     "evalue": "No module named 'numba'",
     "output_type": "error",
     "traceback": [
      "\u001b[1;31m---------------------------------------------------------------------------\u001b[0m",
      "\u001b[1;31mModuleNotFoundError\u001b[0m                       Traceback (most recent call last)",
      "Cell \u001b[1;32mIn[7], line 6\u001b[0m\n\u001b[0;32m      4\u001b[0m \u001b[39mimport\u001b[39;00m \u001b[39mmatplotlib\u001b[39;00m\u001b[39m.\u001b[39;00m\u001b[39mpyplot\u001b[39;00m \u001b[39mas\u001b[39;00m \u001b[39mplt\u001b[39;00m\n\u001b[0;32m      5\u001b[0m \u001b[39mfrom\u001b[39;00m \u001b[39mitertools\u001b[39;00m \u001b[39mimport\u001b[39;00m combinations \u001b[39mas\u001b[39;00m cb\n\u001b[1;32m----> 6\u001b[0m \u001b[39mimport\u001b[39;00m \u001b[39mnumba\u001b[39;00m\n",
      "\u001b[1;31mModuleNotFoundError\u001b[0m: No module named 'numba'"
     ]
    }
   ],
   "source": [
    "import numpy as np\n",
    "import pandas as pd\n",
    "from scipy import stats\n",
    "import matplotlib.pyplot as plt\n",
    "from itertools import combinations as cb\n",
    "import numba"
   ]
  },
  {
   "attachments": {},
   "cell_type": "markdown",
   "metadata": {},
   "source": [
    "# 1 随机采样阵生成"
   ]
  },
  {
   "cell_type": "code",
   "execution_count": 2,
   "metadata": {},
   "outputs": [],
   "source": [
    "# 随机采样阵生成\n",
    "def randSamplingMatrix(m,N):\n",
    "    \"\"\"\n",
    "    Return m*N sampling matrix.\n",
    "    Use type `np.float16`.\n",
    "    \"\"\"\n",
    "    \n",
    "    #用高斯分布抽样并单位化.\n",
    "    A = np.random.randn(m,N).astype(np.float32) # Suggest float32+ in accordance with np.linalg.\n",
    "    A = A/np.sqrt(m)\n",
    "    return A"
   ]
  },
  {
   "attachments": {},
   "cell_type": "markdown",
   "metadata": {},
   "source": [
    "# 2 Restricted Isometry Constant 估计"
   ]
  },
  {
   "cell_type": "code",
   "execution_count": 3,
   "metadata": {},
   "outputs": [],
   "source": [
    "# RIP测试.\n",
    "class RIPtest:\n",
    "    def __init__(self,A,s):\n",
    "        \"\"\"\n",
    "        Return possible delta_s given matrix `A` and sparsity `s`.\n",
    "\n",
    "        Contain 2 methods:\n",
    "            `RIPtest(A,s).monteCarlo(nVec,show)`: Monte Carlo method;\n",
    "            `RIPtest(A,s).singularValue()`: singularValue method.\n",
    "        \"\"\"\n",
    "        self.A = A\n",
    "        self.s = s\n",
    "\n",
    "    # Monte-Carlo method.\n",
    "    def monteCarlo(self, nVec=100, show=False): # 这是一个对象方法.\n",
    "        # def fun() 是类方法; def fun(self) 是对象方法.\n",
    "        \"\"\"\n",
    "        Return possible delta_s given matrix `A` and sparsity `s`. \n",
    "        `nVec`: Number of vectors to test. \n",
    "        `show`: Whether to draw the distribution of amplifications.\n",
    "\n",
    "        Running time: O(nVec=10000,N=10000,m=400)~70sec; O(nVec=5000,N=5000,m=200)~10sec.\n",
    "        \"\"\"\n",
    "        \n",
    "        N = self.A.shape[1]\n",
    "        V =  np.zeros((N,nVec),order='F',dtype=np.float16) # 由多个s-稀疏的列向量组成. \n",
    "        Supps = np.array([np.random.choice(range(N),self.s,replace=False) for i in range(nVec)])\n",
    "            # 随机抽取支集, 存为每一行.\n",
    "        Entries = np.array([np.random.randn(s).astype(np.float16) for i in range(nVec)])\n",
    "            # 随机赋予支集项的值, 存为每一行. 未正规化.\n",
    "        for j in range(nVec):\n",
    "            # supp = Supps[j]\n",
    "            # entries = Entries[j]\n",
    "            V[Supps[j],j] = Entries[j]/np.linalg.norm(Entries[j])\n",
    "        V = np.dot(self.A,V)\n",
    "            # 象.\n",
    "        Amplifications = np.array(list(map(lambda v:np.linalg.norm(v), np.transpose(V))))\n",
    "        ampMax = np.max(Amplifications); delta1 = ampMax-1\n",
    "        ampMin = np.min(Amplifications); delta2 = 1-ampMin\n",
    "        delta = max(delta1,delta2)\n",
    "\n",
    "        if show==True:\n",
    "        # 用Gaussian近似检测delta估计是否超出3-sigma,若是,则认为delta即使再估计也不会显著增加,基本准确.\n",
    "            var = np.var(Amplifications)\n",
    "            mean = np.mean(Amplifications)\n",
    "            threeSigma = 3*np.sqrt(var)\n",
    "            ThreeSigmaPoints = [mean - threeSigma, mean + threeSigma]\n",
    "            Xnorm = np.linspace(ThreeSigmaPoints[0],ThreeSigmaPoints[1],100)\n",
    "            Ynorm = stats.norm.pdf((Xnorm-mean)/np.sqrt(var))/np.sqrt(var)\n",
    "\n",
    "            plt.hist(Amplifications,bins=100,density=True,label='Amplifications')\n",
    "            plt.plot(Xnorm,Ynorm,'r:',label='Gaussian Reference')\n",
    "            plt.axvline(ThreeSigmaPoints[0],linestyle='-.',color='g',label='-3 sigma')\n",
    "            plt.axvline(ThreeSigmaPoints[1],linestyle='--',color='m',label='+3 sigma')\n",
    "            plt.xlabel('Amp.')\n",
    "            plt.ylabel('Density')\n",
    "            plt.legend()\n",
    "            plt.show()\n",
    "            print(\"3-sigma points:\",ThreeSigmaPoints)\n",
    "            print(\"i.e. [1 - {:}, 1 + {:}]\".format(1-ThreeSigmaPoints[0],ThreeSigmaPoints[1]-1))\n",
    "            \n",
    "            if delta==delta1:\n",
    "                side = 'Right'\n",
    "            else:\n",
    "                side = 'Left'\n",
    "            print(\"Side:\",side)\n",
    "        return delta\n",
    "    \n",
    "    # SingularValue method.\n",
    "    def singularValue(self, showSingularValues=False):\n",
    "        \"\"\"\n",
    "        Return delta_s.\n",
    "\n",
    "        `showSingularValues`: Whether to show the two max&min singularValues of all submatrices.\n",
    "        Running time: O(N=200,m=20,s=3)~30sec; O(N=2000,m=20,s=2)~39sec; O(N=2000,m=20,s=3)~ >5min.\n",
    "        可以做成分布式, 并且建议:\n",
    "            1, 采用分布式计算, 否则关于s耗时指数级增长;\n",
    "            2, 改用Monte-Carlo方法, 其估计概率已足够大.\n",
    "        \"\"\"\n",
    "        \n",
    "        N = self.A.shape[1]\n",
    "        # 想象s个指针Pointers.\n",
    "        # 列举指针组合. 我们不列举子矩阵组合, 以节省内存.\n",
    "        PtrCombinations = itertools.combinations(range(N),self.s)\n",
    "        maxSv, minSv = 1, 1\n",
    "        for ptr in PtrCombinations:\n",
    "            ptr = list(ptr)\n",
    "            Svs = np.linalg.svd(self.A[:,ptr])[1] \n",
    "                # `Svs` for 'Singular Values'.\n",
    "                # Only accept float32+ type.\n",
    "            maxSv = max(np.max(Svs),maxSv)\n",
    "            minSv = min(np.min(Svs),minSv)\n",
    "        \n",
    "        delta = max(maxSv - 1, 1 - minSv)\n",
    "        if showSingularValues==True:\n",
    "            print('Max singular value:', maxSv)\n",
    "            print('Min singular value:', minSv)\n",
    "        return delta\n"
   ]
  },
  {
   "attachments": {},
   "cell_type": "markdown",
   "metadata": {},
   "source": [
    "# 3 硬阈值函数"
   ]
  },
  {
   "cell_type": "code",
   "execution_count": 7,
   "metadata": {},
   "outputs": [],
   "source": [
    "# 硬阈值函数\n",
    "def hardThreshold(x,s,T0=[]):\n",
    "    \"\"\"\n",
    "    Return x with its largest s-k entries and k entries indexed in T0, the rest set to 0.\n",
    "    \"\"\"\n",
    "    N = len(x)\n",
    "    k = len(T0)\n",
    "    comparingVec = x.copy()\n",
    "    comparingVec[T0]=0 #去掉支集项以寻找剩余元素的s-k个最大值.\n",
    "    delta = np.abs(comparingVec).argsort()[:-(s-k+1):-1] #返回s-k个绝对最大值的索引.\n",
    "        #这样的返回值不是标准的int64-type, 后续应转换.\n",
    "    supp = np.append(T0, delta).astype('int64')\n",
    "    new = np.zeros(N)\n",
    "    new[supp]=x[supp]\n",
    "\n",
    "    return new"
   ]
  },
  {
   "attachments": {},
   "cell_type": "markdown",
   "metadata": {},
   "source": [
    "# 4 Iterative Hard Thresholding-PKS 函数"
   ]
  },
  {
   "cell_type": "code",
   "execution_count": 28,
   "metadata": {},
   "outputs": [],
   "source": [
    "# IHT-PKS\n",
    "def IHT_PKS(y,Phi,s,\n",
    "    x0='zeroVector',T0=[],mu=0.9, # 学习率\n",
    "    haltingRule=('relativeSampleErr',0.1),maxIteration=1000,xReal=None,suppReal=None,showPrecisionAndRecall=False):\n",
    "    \"\"\"\n",
    "    Return a dict {\n",
    "        estimate: estimate of the (nearly) s-sparse signal x where y=Phi*x,\n",
    "        iterCount: iteration times,\n",
    "        eps: halting l2-norm error bound (not squared) in terms of y,\n",
    "        y: samples,\n",
    "        errY: actual l2-norm error (not squared) in terms of y,\n",
    "        relativeErrY: errY/|y|_2,\n",
    "        confusion: confusion matrix\n",
    "        }.\n",
    "    Print a message if reaching maxIteration.\n",
    "\n",
    "    `y`: Sample vector.\n",
    "    `Phi`: Sensing matrix.\n",
    "    `s`: Sparsity of signal x.\n",
    "    `x0`: (Optional) Initial estimate for x of iteration. Can receive a vector.\n",
    "    `T0`: (Optional) Prior support of x.\n",
    "    `mu`: (Optional) Learning rate.\n",
    "    `haltingRule`: (Optional) By default ('relativeSampleErr',0.1), which halts the iteration when `|y-Phi*x|/|y|<0.1`. \n",
    "    `maxIteration`: (Optional) Halt when iterating these many times.\n",
    "    `xReal`: (Optional) Real x.\n",
    "    `suppReal`: (Optional) Real supp(x), or if x is compressible then by default the largest `s` atoms of x, unless otherwise stated.\n",
    "    `showPrecisionAndRecall`: (Optional) Whether to print precision & recall.\n",
    "    \"\"\"\n",
    "\n",
    "    # Initialize\n",
    "    N = Phi.shape[1]\n",
    "\n",
    "    if x0=='zeroVector':\n",
    "        x0 = np.zeros(N)\n",
    "    haltingRule,eps = haltingRule[0],haltingRule[1]\n",
    "    PhiTrans = Phi.transpose()\n",
    "    yNorm = np.linalg.norm(y)\n",
    "    if haltingRule=='relativeSampleErr':\n",
    "        eps = eps*yNorm #转换为停机的绝对误差限.\n",
    "    else:\n",
    "        print('(20230112)暂未配置其他停机规则,无返回.')\n",
    "        return\n",
    "\n",
    "    # Iterate\n",
    "    for t in range(0,maxIteration):\n",
    "        proxy = x0 + mu*np.dot(PhiTrans,(y-np.dot(Phi,x0))) #矩阵相乘用np.dot().\n",
    "        x1 = hardThreshold(proxy,s,T0)\n",
    "        err = np.linalg.norm(y-np.dot(Phi,x1))\n",
    "        iterCount = t+1\n",
    "\n",
    "        if err<eps:\n",
    "            break\n",
    "        x0 = x1\n",
    "    else: #达到最大迭代次数, 停机.\n",
    "        print('Reach maxIteration!')\n",
    "\n",
    "    if any(xReal):\n",
    "        if suppReal is None:\n",
    "            suppReal = np.argsort(xReal)[:-(s+1):-1] #兼容compressible signal.\n",
    "        \n",
    "        # Compute confusion matrix.\n",
    "        nPositive = np.sum(x1!=0)\n",
    "        nTruePositive = np.sum(x1[suppReal]!=0)\n",
    "        nFalsePositive = nPositive - nTruePositive\n",
    "        nNegative = N - nPositive\n",
    "        nFalseNegative = np.sum(x1[suppReal]==0)\n",
    "        nTrueNegative = nNegative - nFalseNegative\n",
    "\n",
    "        confusion = pd.DataFrame(np.array([\n",
    "            [nTruePositive,nTrueNegative],\n",
    "            [nFalsePositive,nFalseNegative]\n",
    "        ]), columns=['positive','negative'],index=['true','false'])\n",
    "        if showPrecisionAndRecall == True:\n",
    "            print('precision:',nTruePositive/(nTruePositive + nFalsePositive))\n",
    "            print('recall:',nTruePositive/(nTruePositive + nFalseNegative))\n",
    "    \n",
    "    else:\n",
    "        confusion = None\n",
    "    return dict(\n",
    "        estimate=x1,\n",
    "        iterCount=iterCount,\n",
    "        eps=eps,\n",
    "        y=y,\n",
    "        errY=err,\n",
    "        relativeErrY=err/yNorm,\n",
    "        confusion=confusion\n",
    "    )\n"
   ]
  },
  {
   "attachments": {},
   "cell_type": "markdown",
   "metadata": {},
   "source": [
    "# 数值测试\n",
    "\n",
    "C in O(slog(N/s)) 测试."
   ]
  },
  {
   "cell_type": "code",
   "execution_count": null,
   "metadata": {},
   "outputs": [],
   "source": [
    "# C系数测试\n",
    "\n",
    "def numTest(x=np.array([0,3,0,0,4,3,0,0,0,0,0,2,0,0,0,0,0,0,0,0,\n",
    "        0,0,0,0,0,0,0,0,0,0,0,0,0,0,0,0,0,0,0,0,0,0,0,0,0,0,0,0,0,0,0,0,0,0,0,0,0,\n",
    "        0,0,0,0,0,0,0,0,0,0,0,0,0,0,0,0,0,0,0,0,0,0,0,0,0,0,0,0,0,0,0,0,0,0,0,0,0,\n",
    "        0,0,0,0,0,0,0,0,0,0,0,0,0,0,0,0,0,0,0,0,0,0,0,0,0,0,0,0,0,0,0,0,0,0,0,0,0,\n",
    "        0,0,0,0,0,0,0,0,0,0,0,0,0,0,0,0,0,0,0,0,0,0,0,0,0,0,0,0,0,0,0,0,0,0,0,0,0,\n",
    "        0,0,0,0,0,0,0,0,0,0,0,0,0,0,0,0,0,0,0,0,0,0,0,0,0,0,0,0,0,0,0,0,0,0,0,0,0,\n",
    "        0,0,0,0,0,0,0,0,0,0,0,0,0,0,0,0,0,0,0,0,0,0,0,0,0,0,0,0,0,0,0,0,0,0,0,0,0,\n",
    "        0,0,0,0,0,0,0,0,0,0,7,0,0,0,0,0,0,0,0,0,0,0,0,0,0,0,0,0,0,0,0,0,0,0,0,0,0,\n",
    "        0,0,0,0,0,0,0,0,0,0,0,0,0,0,0,0,0,0,0,0,0,0,0,0,0,0,0,0,0,0,0,0,0,0,0,0,0,\n",
    "        0,0,0,0,0,0,0,0,0,0,0,0,0,0,0,0,0,0,0,0,0,0,0,0,0,0,0,0,0,0,0,0,0,0,0,0,0,\n",
    "        0,0,0,0,0,0,0,0,0,0,6,0,0,0,0,0,0,0,0,0,0,0,0,0,0,0,0,0,0,4,5,0,0,0,0,4,0,\n",
    "        6,0,7,0,0,0,0,0,0,0,0,0,0,0,0,0,2]),\n",
    "    C=1):\n",
    "    \"\"\"Print N,s, as well as m, depending on (C,N,s).\n",
    "    Return an experiment dict object.\n",
    "    \n",
    "    :param x: Real signal\n",
    "    :param C: Coefficient in O(slog(N/s)).\n",
    "    \"\"\"\n",
    "\n",
    "    N=len(x)\n",
    "    s=len(np.nonzero(x)[0])\n",
    "    m=int(C*s*np.log(N/s))\n",
    "    Phi=randSamplingMatrix(m,N)\n",
    "    \n",
    "    y=np.dot(Phi,x)\n",
    "\n",
    "    print('N=',N,';s=',s,';m=',m)\n",
    "    return IHT_PKS(y,Phi,s,N,xReal=x)"
   ]
  },
  {
   "cell_type": "code",
   "execution_count": null,
   "metadata": {},
   "outputs": [],
   "source": [
    "np.random.seed(42)\n",
    "numTest(C=5)"
   ]
  },
  {
   "attachments": {},
   "cell_type": "markdown",
   "metadata": {},
   "source": [
    "# Debug region"
   ]
  },
  {
   "cell_type": "code",
   "execution_count": 5,
   "metadata": {},
   "outputs": [],
   "source": [
    "np.random.seed(42)\n",
    "A = randSamplingMatrix(20,200)"
   ]
  },
  {
   "cell_type": "code",
   "execution_count": 41,
   "metadata": {},
   "outputs": [],
   "source": [
    "x = np.array([1,1,2,2,1,0,8,6,5,3,7,0])\n",
    "x = np.append(x,np.zeros(2000-12))"
   ]
  },
  {
   "cell_type": "code",
   "execution_count": 6,
   "metadata": {},
   "outputs": [
    {
     "name": "stdout",
     "output_type": "stream",
     "text": [
      "Max singular value: 1.7449288\n",
      "Min singular value: 0.28672975\n"
     ]
    },
    {
     "data": {
      "text/plain": [
       "0.7449288368225098"
      ]
     },
     "execution_count": 6,
     "metadata": {},
     "output_type": "execute_result"
    }
   ],
   "source": [
    "np.random.seed(42)\n",
    "RIPtest(A,3).singularValue(True)"
   ]
  },
  {
   "attachments": {},
   "cell_type": "markdown",
   "metadata": {},
   "source": [
    "original: 31.8s\n",
    "\n"
   ]
  },
  {
   "cell_type": "code",
   "execution_count": 37,
   "metadata": {},
   "outputs": [
    {
     "name": "stdout",
     "output_type": "stream",
     "text": [
      "precision: 1.0\n",
      "recall: 1.0\n"
     ]
    }
   ],
   "source": [
    "# IHT:\n",
    "result = IHT_PKS(np.dot(A,x),A,10,xReal=x,showPrecisionAndRecall=True)"
   ]
  },
  {
   "cell_type": "code",
   "execution_count": 39,
   "metadata": {},
   "outputs": [
    {
     "data": {
      "text/html": [
       "<div>\n",
       "<style scoped>\n",
       "    .dataframe tbody tr th:only-of-type {\n",
       "        vertical-align: middle;\n",
       "    }\n",
       "\n",
       "    .dataframe tbody tr th {\n",
       "        vertical-align: top;\n",
       "    }\n",
       "\n",
       "    .dataframe thead th {\n",
       "        text-align: right;\n",
       "    }\n",
       "</style>\n",
       "<table border=\"1\" class=\"dataframe\">\n",
       "  <thead>\n",
       "    <tr style=\"text-align: right;\">\n",
       "      <th></th>\n",
       "      <th>positive</th>\n",
       "      <th>negative</th>\n",
       "    </tr>\n",
       "  </thead>\n",
       "  <tbody>\n",
       "    <tr>\n",
       "      <th>true</th>\n",
       "      <td>10</td>\n",
       "      <td>1990</td>\n",
       "    </tr>\n",
       "    <tr>\n",
       "      <th>false</th>\n",
       "      <td>0</td>\n",
       "      <td>0</td>\n",
       "    </tr>\n",
       "  </tbody>\n",
       "</table>\n",
       "</div>"
      ],
      "text/plain": [
       "       positive  negative\n",
       "true         10      1990\n",
       "false         0         0"
      ]
     },
     "execution_count": 39,
     "metadata": {},
     "output_type": "execute_result"
    }
   ],
   "source": [
    "result['confusion']"
   ]
  },
  {
   "cell_type": "code",
   "execution_count": 22,
   "metadata": {},
   "outputs": [],
   "source": [
    "a = np.arange(3)"
   ]
  },
  {
   "cell_type": "code",
   "execution_count": 25,
   "metadata": {},
   "outputs": [
    {
     "data": {
      "text/plain": [
       "2"
      ]
     },
     "execution_count": 25,
     "metadata": {},
     "output_type": "execute_result"
    }
   ],
   "source": [
    "max(1,2)"
   ]
  },
  {
   "cell_type": "code",
   "execution_count": null,
   "metadata": {},
   "outputs": [],
   "source": []
  }
 ],
 "metadata": {
  "kernelspec": {
   "display_name": "bachelorThesis",
   "language": "python",
   "name": "python3"
  },
  "language_info": {
   "codemirror_mode": {
    "name": "ipython",
    "version": 3
   },
   "file_extension": ".py",
   "mimetype": "text/x-python",
   "name": "python",
   "nbconvert_exporter": "python",
   "pygments_lexer": "ipython3",
   "version": "3.9.15"
  },
  "orig_nbformat": 4,
  "vscode": {
   "interpreter": {
    "hash": "0fa5ea0a09a8cd9d0aa4e6bbb526a74c2e7a420b3d09cd1311bf211743dd137b"
   }
  }
 },
 "nbformat": 4,
 "nbformat_minor": 2
}
