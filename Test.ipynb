{
 "cells": [
  {
   "cell_type": "code",
   "execution_count": 2,
   "metadata": {},
   "outputs": [],
   "source": [
    "import numpy as np\n",
    "import pandas as pd\n",
    "from scipy import stats\n",
    "import matplotlib.pyplot as plt\n",
    "import cvxopt\n",
    "\n",
    "import pickle\n",
    "\n",
    "# Variable saving.\n",
    "\n",
    "\n",
    "def pickleSave(var, filename='.pickle'):\n",
    "    if '.pickle' not in filename:\n",
    "        filename = filename + '.pickle'\n",
    "    with open(filename, 'wb') as f:\n",
    "        pickle.dump(var, f)\n",
    "    print('PickleSave Succeeded.')\n",
    "    return\n",
    "\n",
    "# Variable loading.\n",
    "\n",
    "\n",
    "def pickleLoad(filename):\n",
    "    \"\"\"\n",
    "    Make sure it's assigned to a variable.\n",
    "    \"\"\"\n",
    "    if '.pickle' not in filename:\n",
    "        filename = filename + '.pickle'\n",
    "    with open(filename, 'rb') as f:\n",
    "        cache = pickle.load(f)\n",
    "    print(\"PickleLoad Succeeded. Make sure it's assigned to a variable.\")\n",
    "    return cache\n"
   ]
  },
  {
   "cell_type": "code",
   "execution_count": 3,
   "metadata": {},
   "outputs": [
    {
     "name": "stdout",
     "output_type": "stream",
     "text": [
      "PickleLoad Succeeded. Make sure it's assigned to a variable.\n"
     ]
    }
   ],
   "source": [
    "X = pickleLoad('X')"
   ]
  },
  {
   "cell_type": "code",
   "execution_count": 3,
   "metadata": {},
   "outputs": [
    {
     "name": "stdout",
     "output_type": "stream",
     "text": [
      "PickleLoad Succeeded. Make sure it's assigned to a variable.\n"
     ]
    }
   ],
   "source": [
    "XHat_pR_IRLSPKS = pickleLoad('XHat_pR_IRLSPKS.pickle')"
   ]
  },
  {
   "cell_type": "code",
   "execution_count": 10,
   "metadata": {},
   "outputs": [
    {
     "name": "stdout",
     "output_type": "stream",
     "text": [
      "PickleLoad Succeeded. Make sure it's assigned to a variable.\n"
     ]
    }
   ],
   "source": [
    "Means = pickleLoad('Means.pickle')"
   ]
  },
  {
   "cell_type": "code",
   "execution_count": 4,
   "metadata": {},
   "outputs": [],
   "source": [
    "def hardThreshold(x, s, T0=[]):\n",
    "    \"\"\"\n",
    "    Return x with its largest s-k entries and k entries indexed in T0, the rest set to 0.\n",
    "    \"\"\"\n",
    "    n = len(x)\n",
    "    k = len(T0)\n",
    "    comparingVec = x.copy()\n",
    "    comparingVec[T0] = 0  # 去掉支集项以寻找剩余元素的s-k个最大值.\n",
    "    delta = np.abs(comparingVec).argsort()[:-(s-k+1):-1]  # 返回s-k个绝对最大值的索引.\n",
    "    supp = np.append(T0, delta).astype('int64')\n",
    "    new = np.zeros(n)\n",
    "    new[supp] = x[supp]\n",
    "\n",
    "    return new"
   ]
  },
  {
   "cell_type": "code",
   "execution_count": 5,
   "metadata": {},
   "outputs": [],
   "source": [
    "# IRLSPKS.\n",
    "def IRLSPKS(y: np.ndarray, Phi: np.ndarray, T0=[],\n",
    "            p: int = 1, tau=1e-1, mu=1e-6,\n",
    "            maxIter: int = 100, eps=1e-6,\n",
    "            returnIter=False,\n",
    "            showIfMaxIter=False, showChangeRate=False):\n",
    "    \"\"\"\n",
    "    `p`: Norm number, in (0,1]. \\n\n",
    "    `mu`: Normalizing param. \\n\n",
    "    `tau`: Short for tau^(2-p) in the paper. Weighting param. \\n\n",
    "    Return signal estimate. \\n\n",
    "    If `returnIter`, return tuple:(signalEsti,iter). \\n\n",
    "    \"\"\"\n",
    "    n = Phi.shape[1]  # signal length.\n",
    "    T0 = list(T0)\n",
    "    x0 = np.zeros(n)\n",
    "    # Init.\n",
    "    q = np.ones(n)  # q=(q1,...,qn)\n",
    "    # Q = np.diag(q)\n",
    "    # Inverse weight matrix. Not used so as to accelerate.\n",
    "    x0 = (q * Phi).T.dot(np.linalg.inv(Phi @ (q * Phi).T) @ y)  # Weight by row.\n",
    "    # Cost:O((m^2*n^2)^3)=poly(m,N).\n",
    "\n",
    "    for t in range(maxIter):\n",
    "        q = np.abs(x0)**(2-p)\n",
    "        q[T0] *= tau**(-1)\n",
    "        q += mu\n",
    "        x1 = (q * Phi).T.dot(np.linalg.inv(Phi @ (q * Phi).T) @ y)\n",
    "        dx = x1 - x0\n",
    "        changeRate = np.sqrt(dx.dot(dx) / (x1.dot(x1) + eps**2))\n",
    "        if showChangeRate:\n",
    "            print('Iter:', t, 'ChangeRate:', changeRate)  # Log.\n",
    "        if changeRate < eps:\n",
    "            iter = t\n",
    "            break\n",
    "        x0 = x1\n",
    "    else:  # Reach maxIter.\n",
    "        iter = maxIter-1\n",
    "        if showIfMaxIter:\n",
    "            print('Reach maxIter:', maxIter)\n",
    "\n",
    "    if returnIter:\n",
    "        return (x1, iter)\n",
    "    else:\n",
    "        return x1"
   ]
  },
  {
   "cell_type": "code",
   "execution_count": null,
   "metadata": {},
   "outputs": [],
   "source": []
  },
  {
   "cell_type": "code",
   "execution_count": 7,
   "metadata": {},
   "outputs": [
    {
     "name": "stdout",
     "output_type": "stream",
     "text": [
      "PickleLoad Succeeded. Make sure it's assigned to a variable.\n",
      "PickleLoad Succeeded. Make sure it's assigned to a variable.\n"
     ]
    }
   ],
   "source": [
    "sampMats = pickleLoad('sampMats.pickle')\n",
    "priorRatios = [0.,0.2,0.4,0.6,0.8,1.]\n",
    "Supps = pickleLoad('Supps.pickle')"
   ]
  },
  {
   "cell_type": "code",
   "execution_count": 8,
   "metadata": {},
   "outputs": [
    {
     "name": "stdout",
     "output_type": "stream",
     "text": [
      "One batch `XHat` recovered w.r.t. a measurement number. -> XHat_m[b],b:0\n",
      "One batch `XHat` recovered w.r.t. a measurement number. -> XHat_m[b],b:1\n",
      "One batch `XHat` recovered w.r.t. a measurement number. -> XHat_m[b],b:2\n",
      "One batch `XHat` recovered w.r.t. a measurement number. -> XHat_m[b],b:3\n",
      "One batch `XHat` recovered w.r.t. a measurement number. -> XHat_m[b],b:4\n",
      "One batch `XHat` recovered w.r.t. a measurement number. -> XHat_m[b],b:5\n",
      "One batch `XHat` recovered w.r.t. a measurement number. -> XHat_m[b],b:6\n",
      "One batch `XHat` recovered w.r.t. a measurement number. -> XHat_m[b],b:7\n",
      "One class of batch `XHat_m` recovered w.r.t. a priorRatio. -> XHat_pR[c],c:0\n",
      "One batch `XHat` recovered w.r.t. a measurement number. -> XHat_m[b],b:0\n",
      "One batch `XHat` recovered w.r.t. a measurement number. -> XHat_m[b],b:1\n",
      "One batch `XHat` recovered w.r.t. a measurement number. -> XHat_m[b],b:2\n",
      "One batch `XHat` recovered w.r.t. a measurement number. -> XHat_m[b],b:3\n",
      "One batch `XHat` recovered w.r.t. a measurement number. -> XHat_m[b],b:4\n",
      "One batch `XHat` recovered w.r.t. a measurement number. -> XHat_m[b],b:5\n",
      "One batch `XHat` recovered w.r.t. a measurement number. -> XHat_m[b],b:6\n",
      "One batch `XHat` recovered w.r.t. a measurement number. -> XHat_m[b],b:7\n",
      "One class of batch `XHat_m` recovered w.r.t. a priorRatio. -> XHat_pR[c],c:1\n",
      "One batch `XHat` recovered w.r.t. a measurement number. -> XHat_m[b],b:0\n",
      "One batch `XHat` recovered w.r.t. a measurement number. -> XHat_m[b],b:1\n",
      "One batch `XHat` recovered w.r.t. a measurement number. -> XHat_m[b],b:2\n",
      "One batch `XHat` recovered w.r.t. a measurement number. -> XHat_m[b],b:3\n",
      "One batch `XHat` recovered w.r.t. a measurement number. -> XHat_m[b],b:4\n",
      "One batch `XHat` recovered w.r.t. a measurement number. -> XHat_m[b],b:5\n",
      "One batch `XHat` recovered w.r.t. a measurement number. -> XHat_m[b],b:6\n",
      "One batch `XHat` recovered w.r.t. a measurement number. -> XHat_m[b],b:7\n",
      "One class of batch `XHat_m` recovered w.r.t. a priorRatio. -> XHat_pR[c],c:2\n",
      "One batch `XHat` recovered w.r.t. a measurement number. -> XHat_m[b],b:0\n",
      "One batch `XHat` recovered w.r.t. a measurement number. -> XHat_m[b],b:1\n",
      "One batch `XHat` recovered w.r.t. a measurement number. -> XHat_m[b],b:2\n",
      "One batch `XHat` recovered w.r.t. a measurement number. -> XHat_m[b],b:3\n",
      "One batch `XHat` recovered w.r.t. a measurement number. -> XHat_m[b],b:4\n",
      "One batch `XHat` recovered w.r.t. a measurement number. -> XHat_m[b],b:5\n",
      "One batch `XHat` recovered w.r.t. a measurement number. -> XHat_m[b],b:6\n",
      "One batch `XHat` recovered w.r.t. a measurement number. -> XHat_m[b],b:7\n",
      "One class of batch `XHat_m` recovered w.r.t. a priorRatio. -> XHat_pR[c],c:3\n",
      "One batch `XHat` recovered w.r.t. a measurement number. -> XHat_m[b],b:0\n",
      "One batch `XHat` recovered w.r.t. a measurement number. -> XHat_m[b],b:1\n",
      "One batch `XHat` recovered w.r.t. a measurement number. -> XHat_m[b],b:2\n",
      "One batch `XHat` recovered w.r.t. a measurement number. -> XHat_m[b],b:3\n",
      "One batch `XHat` recovered w.r.t. a measurement number. -> XHat_m[b],b:4\n",
      "One batch `XHat` recovered w.r.t. a measurement number. -> XHat_m[b],b:5\n",
      "One batch `XHat` recovered w.r.t. a measurement number. -> XHat_m[b],b:6\n",
      "One batch `XHat` recovered w.r.t. a measurement number. -> XHat_m[b],b:7\n",
      "One class of batch `XHat_m` recovered w.r.t. a priorRatio. -> XHat_pR[c],c:4\n",
      "One batch `XHat` recovered w.r.t. a measurement number. -> XHat_m[b],b:0\n",
      "One batch `XHat` recovered w.r.t. a measurement number. -> XHat_m[b],b:1\n",
      "One batch `XHat` recovered w.r.t. a measurement number. -> XHat_m[b],b:2\n",
      "One batch `XHat` recovered w.r.t. a measurement number. -> XHat_m[b],b:3\n",
      "One batch `XHat` recovered w.r.t. a measurement number. -> XHat_m[b],b:4\n",
      "One batch `XHat` recovered w.r.t. a measurement number. -> XHat_m[b],b:5\n",
      "One batch `XHat` recovered w.r.t. a measurement number. -> XHat_m[b],b:6\n",
      "One batch `XHat` recovered w.r.t. a measurement number. -> XHat_m[b],b:7\n",
      "One class of batch `XHat_m` recovered w.r.t. a priorRatio. -> XHat_pR[c],c:5\n"
     ]
    }
   ],
   "source": [
    "# IRLSPKS simulate:\n",
    "def IRLSPKS_simulate(X, sampMats, priorRatios, Supps):\n",
    "    '''\n",
    "    description: Does not require sparsity `s`. \\n\n",
    "    return {XHat_pR}: \\n\n",
    "    `XHat_pR[i_class(0:5)]` w.r.t. a priorRatio; \\n\n",
    "    `XHat_pR[i_class][i_batch(0:11)]` w.r.t. a sampMatrix; \\n\n",
    "    `XHat_pR[i_class][i_batch][:,j]` j-th signal estimate.\n",
    "    '''\n",
    "    XHat_pR = []\n",
    "    iClass = 0\n",
    "    for pR in priorRatios:  # Different prior information.\n",
    "        XHat_m = []\n",
    "        iBatch = 0\n",
    "        for Phi in sampMats:  # Different measurements.\n",
    "            Y = Phi @ X  # Observations.\n",
    "            XHat = np.zeros(X.shape)\n",
    "            for j in range(X.shape[1]):  # Different signals.\n",
    "                y = Y[:, j]\n",
    "                suppReal = Supps[:, j]\n",
    "                T0 = suppReal[:int(len(suppReal)*pR)]\n",
    "                xHat = IRLSPKS(y, Phi, T0=T0, maxIter=10)\n",
    "                XHat[:, j] = xHat\n",
    "\n",
    "            print(\n",
    "                'One batch `XHat` recovered w.r.t. a measurement number. -> XHat_m[b],b:', iBatch, sep='')\n",
    "            iBatch += 1\n",
    "            XHat_m.append(XHat)\n",
    "        print(\n",
    "            'One class of batch `XHat_m` recovered w.r.t. a priorRatio. -> XHat_pR[c],c:', iClass, sep='')\n",
    "        iClass += 1\n",
    "        XHat_pR.append(XHat_m)\n",
    "    return XHat_pR\n",
    "\n",
    "\n",
    "XHat_pR_IRLSPKS = IRLSPKS_simulate(X[:,:1], sampMats, priorRatios, Supps)"
   ]
  },
  {
   "cell_type": "code",
   "execution_count": 11,
   "metadata": {},
   "outputs": [],
   "source": [
    "errFig = []\n",
    "for p in range(6):\n",
    "    XHat_m = XHat_pR_IRLSPKS[p]\n",
    "    err = []\n",
    "    for m in range(len(XHat_m)):\n",
    "        XHat = XHat_m[m]\n",
    "        err.append(np.sum((XHat - X[:,:1])**2)/20)\n",
    "    errFig.append(err)\n"
   ]
  },
  {
   "cell_type": "code",
   "execution_count": 13,
   "metadata": {},
   "outputs": [],
   "source": [
    "numMeasurements = np.arange(100,801,100)\n",
    "priorRatios = [0.,0.2,0.4,0.6,0.8,1.]"
   ]
  },
  {
   "cell_type": "code",
   "execution_count": 17,
   "metadata": {},
   "outputs": [
    {
     "data": {
      "image/png": "[encoded data removed]",
      "text/plain": [
       "<Figure size 640x480 with 1 Axes>"
      ]
     },
     "metadata": {},
     "output_type": "display_data"
    }
   ],
   "source": [
    "for p in range(6):\n",
    "    plt.plot(numMeasurements,errFig[p],label='pR='+str(priorRatios[p]))\n",
    "plt.legend()\n",
    "plt.xlabel('Measurements')\n",
    "plt.ylabel('Ave. Error')\n",
    "plt.ylim(0,1e-5)\n",
    "plt.show()"
   ]
  },
  {
   "cell_type": "code",
   "execution_count": null,
   "metadata": {},
   "outputs": [],
   "source": []
  }
 ],
 "metadata": {
  "kernelspec": {
   "display_name": "bachelorThesis",
   "language": "python",
   "name": "python3"
  },
  "language_info": {
   "codemirror_mode": {
    "name": "ipython",
    "version": 3
   },
   "file_extension": ".py",
   "mimetype": "text/x-python",
   "name": "python",
   "nbconvert_exporter": "python",
   "pygments_lexer": "ipython3",
   "version": "3.9.15"
  },
  "orig_nbformat": 4
 },
 "nbformat": 4,
 "nbformat_minor": 2
}
