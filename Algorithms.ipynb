{
 "cells": [
  {
   "cell_type": "code",
   "execution_count": 4,
   "metadata": {},
   "outputs": [],
   "source": [
    "import numpy as np\n",
    "import pandas as pd\n",
    "from scipy import stats\n",
    "import matplotlib.pyplot as plt\n",
    "from itertools import combinations as cb"
   ]
  },
  {
   "attachments": {},
   "cell_type": "markdown",
   "metadata": {},
   "source": [
    "# 1 随机采样阵生成"
   ]
  },
  {
   "cell_type": "code",
   "execution_count": 5,
   "metadata": {},
   "outputs": [],
   "source": [
    "# 随机采样阵生成\n",
    "def randSamplingMatrix(m,N):\n",
    "    \"\"\"\n",
    "    Return m*N sampling matrix.\n",
    "    Use type `np.float32`.\n",
    "    \"\"\"\n",
    "    \n",
    "    #用高斯分布抽样并单位化.\n",
    "    A = np.random.randn(m,N).astype(np.float32)\n",
    "    A = (A/np.sqrt(m)).astype(np.float32)\n",
    "    return A"
   ]
  },
  {
   "attachments": {},
   "cell_type": "markdown",
   "metadata": {},
   "source": [
    "# 2 Restricted Isometry Constant 估计"
   ]
  },
  {
   "cell_type": "code",
   "execution_count": 13,
   "metadata": {},
   "outputs": [],
   "source": [
    "# RIP测试.\n",
    "class RIPtest:\n",
    "    def __init__(self,A,s):\n",
    "        \"\"\"\n",
    "        Return possible delta_s given matrix `A` and sparsity `s`.\n",
    "\n",
    "        Contain 2 methods:\n",
    "            `RIPtest(A,s).monteCarlo(nVec,show)`: Monte Carlo method;\n",
    "            `RIPtest(A,s).singularValue()`: singularValue method.\n",
    "        \"\"\"\n",
    "        self.A = A\n",
    "        self.s = s\n",
    "    #         \n",
    "    # \n",
    "    # \n",
    "    #                 \n",
    "    # Monte-Carlo method.\n",
    "    def monteCarlo(self, nVec=1e5, show=True): # 这是一个对象方法.\n",
    "        # def fun() 是类方法; def fun(self) 是对象方法.\n",
    "        \"\"\"\n",
    "        Return possible delta_s given matrix `A` and sparsity `s`. \n",
    "        `nVec`: Number of vectors to test. \n",
    "        `show`: Whether to draw the distribution of amplifications.\n",
    "\n",
    "        Running time:\n",
    "            O(nVec=10000,N=10000,m=400)~70sec;\n",
    "            \n",
    "            O(nVec=5000,N=5000,m=200)~10sec;\n",
    "\n",
    "            O(nVec=100000,N=200,m=50)~3sec.\n",
    "        \"\"\"\n",
    "        \n",
    "        N = self.A.shape[1]\n",
    "        nVec = int(nVec) # 转化形如`1e5`的输入.\n",
    "        V =  np.zeros((N,nVec),order='F',dtype=np.float32) # 由多个s-稀疏的列向量组成. \n",
    "        Supps = np.array([np.random.choice(range(N),self.s,replace=False) for i in range(nVec)])\n",
    "            # 随机抽取支集, 存为每一行.\n",
    "        Entries = np.array([np.random.randn(self.s).astype(np.float32) for i in range(nVec)])\n",
    "            # 随机赋予支集项的值, 存为每一行. 未正规化.\n",
    "        for j in range(nVec):\n",
    "            # supp = Supps[j]\n",
    "            # entries = Entries[j]\n",
    "            V[Supps[j],j] = Entries[j]/np.linalg.norm(Entries[j])\n",
    "        V = np.dot(self.A,V)\n",
    "            # 象.\n",
    "        Amplifications = np.array(list(map(lambda v:np.linalg.norm(v), np.transpose(V))))\n",
    "        ampMax = np.max(Amplifications); delta1 = ampMax-1\n",
    "        ampMin = np.min(Amplifications); delta2 = 1-ampMin\n",
    "        delta = max(delta1,delta2)\n",
    "\n",
    "        if show==True:\n",
    "        # 用Gaussian近似检测delta估计是否超出3-sigma,若是,则认为delta即使再估计也不会显著增加,基本准确.\n",
    "            var = np.var(Amplifications)\n",
    "            mean = np.mean(Amplifications)\n",
    "            threeSigma = 3*np.sqrt(var)\n",
    "            ThreeSigmaPoints = [mean - threeSigma, mean + threeSigma]\n",
    "            Xnorm = np.linspace(ThreeSigmaPoints[0],ThreeSigmaPoints[1],100)\n",
    "            Ynorm = stats.norm.pdf((Xnorm-mean)/np.sqrt(var))/np.sqrt(var)\n",
    "\n",
    "            plt.hist(Amplifications,bins=100,density=True,label='Amplifications')\n",
    "            plt.plot(Xnorm,Ynorm,'r:',label='Gaussian Reference')\n",
    "            plt.axvline(ThreeSigmaPoints[0],linestyle='-.',color='g',label='-3 sigma')\n",
    "            plt.axvline(ThreeSigmaPoints[1],linestyle='--',color='m',label='+3 sigma')\n",
    "            plt.xlabel('Amp.')\n",
    "            plt.ylabel('Density')\n",
    "            plt.legend()\n",
    "            plt.show()\n",
    "            print(\"3-sigma points: [1 - {:}, 1 + {:}]\".format(1-ThreeSigmaPoints[0],ThreeSigmaPoints[1]-1))\n",
    "            \n",
    "            if delta==delta1:\n",
    "                side = 'Right'\n",
    "            else:\n",
    "                side = 'Left'\n",
    "            print(\"Side:\",side)\n",
    "        return delta\n",
    "    #\n",
    "    #\n",
    "    #\n",
    "    # SingularValue method.\n",
    "    def singularValue(self, SAFECODE, showSingularValues=True, mode='memory-saving'):\n",
    "        \"\"\"\n",
    "        有内存泄漏危险, 勿用!\n",
    "\n",
    "        确认使用时输入参数`SAFECODE=CONFIRM`.\n",
    "\n",
    "        Return delta_s.\n",
    "\n",
    "        `showSingularValues`: Whether to show the two max&min singularValues of all submatrices.\n",
    "        \n",
    "        Running time:\n",
    "            `mode='memory-saving'`: O(N=200,m=20,s=3)~30sec; O(N=2000,m=20,s=2)~39sec; O(N=2000,m=20,s=3)~ >5min.\n",
    "            \n",
    "            `mode='fast'`: O(N=200,m=20,s=3)~23sec; O(N=2000,m=20,s=2)~27sec; O(N=2000,m=20,s=3)~ >2min(MemoryError).\n",
    "        \n",
    "        建议:\n",
    "            1, 采用分布式计算, 因为耗时关于s指数级增长;\n",
    "            \n",
    "            2, 改用Monte-Carlo方法, 其估计概率已足够大;\n",
    "            \n",
    "            3, `fast`模式对于稍大矩阵几乎不能用, 基本上会报错`MemoryError`.\n",
    "        \"\"\"\n",
    "\n",
    "        if SAFECODE!='CONFIRM':\n",
    "            print('Not safe!')\n",
    "            return\n",
    "        \n",
    "        N = self.A.shape[1]\n",
    "\n",
    "        # 以时间换空间: 使用s个指针Pointers, 列举指针组合.\n",
    "        if mode=='memory-saving':\n",
    "            PtrCombinations = cb(range(N),self.s)\n",
    "            maxSv, minSv = 1, 1\n",
    "            for ptr in PtrCombinations:\n",
    "                ptr = list(ptr)\n",
    "                Svs = np.linalg.svd(self.A[:,ptr])[1] \n",
    "                    # `Svs` for 'Singular Values'.\n",
    "                    # Only accept float32+ type.\n",
    "                maxSv = max(np.max(Svs),maxSv)\n",
    "                minSv = min(np.min(Svs),minSv)\n",
    "\n",
    "        # ↑↓ 以空间换时间.\n",
    "        elif mode=='fast':\n",
    "            Submatrices = np.array(list(cb(self.A.transpose(),self.s)))\n",
    "\n",
    "            # Svs = np.array(list(map(np.linalg.svd,\n",
    "            #           Submatrices))).reshape(1,-1)[0]\n",
    "            # ↑↓ Equivalent.\n",
    "            Svs = np.linalg.svd(Submatrices)[1].reshape(1,-1)[0]\n",
    "\n",
    "            maxSv = max(Svs)\n",
    "            minSv = min(Svs)\n",
    "\n",
    "        delta = max(maxSv - 1, 1 - minSv)\n",
    "        if showSingularValues==True:\n",
    "            print('Max singular value:', maxSv)\n",
    "            print('Min singular value:', minSv)\n",
    "        return delta\n",
    "    #\n",
    "    #\n",
    "    #\n",
    "    #\n",
    "    # A mixed version.\n",
    "    def mixedMethod(self, times=10000, showSingularValues=True):\n",
    "        \"\"\"\n",
    "        A better and safe mixed version of Monte-Carlo & SingularValue.\n",
    "        \"\"\"\n",
    "        N = self.A.shape[1]\n",
    "        maxSv, minSv = 1, 1\n",
    "        for t in range(times):\n",
    "            comb = np.random.choice(range(N),self.s,replace=False)\n",
    "            submatrix = self.A[:,comb].astype(np.float32)\n",
    "            Svs = np.linalg.eigvals(np.dot(submatrix.transpose(),submatrix))\n",
    "                # `Svs` for 'Singular Values'.\n",
    "                # Only accept float32+ type.\n",
    "            maxSv = max(np.sqrt(np.max(Svs)),maxSv)\n",
    "            minSv = min(np.sqrt(np.min(Svs)),minSv)\n",
    "\n",
    "        delta = max(maxSv - 1, 1 - minSv)\n",
    "        if showSingularValues==True:\n",
    "            print('Max singular value:', maxSv)\n",
    "            print('Min singular value:', minSv)\n",
    "        return delta"
   ]
  },
  {
   "attachments": {},
   "cell_type": "markdown",
   "metadata": {},
   "source": [
    "# 3.1 硬阈值函数"
   ]
  },
  {
   "cell_type": "code",
   "execution_count": 7,
   "metadata": {},
   "outputs": [],
   "source": [
    "# 硬阈值函数\n",
    "def hardThreshold(x,s,T0=[]):\n",
    "    \"\"\"\n",
    "    Return x with its largest s-k entries and k entries indexed in T0, the rest set to 0.\n",
    "    \"\"\"\n",
    "    N = len(x)\n",
    "    k = len(T0)\n",
    "    comparingVec = x.copy()\n",
    "    comparingVec[T0]=0 #去掉支集项以寻找剩余元素的s-k个最大值.\n",
    "    delta = np.abs(comparingVec).argsort()[:-(s-k+1):-1] #返回s-k个绝对最大值的索引.\n",
    "        #这样的返回值不是标准的int64-type, 后续应转换.\n",
    "    supp = np.append(T0, delta).astype('int64')\n",
    "    new = np.zeros(N)\n",
    "    new[supp]=x[supp]\n",
    "\n",
    "    return new"
   ]
  },
  {
   "attachments": {},
   "cell_type": "markdown",
   "metadata": {},
   "source": [
    "# A. initialize()"
   ]
  },
  {
   "cell_type": "code",
   "execution_count": 8,
   "metadata": {},
   "outputs": [],
   "source": [
    "def initialize(y,Phi,x0,haltingRule):\n",
    "    \"\"\"Initialize(y,Phi,x0,haltingRule) -> N,PhiTrans,yNorm,x0,eps\"\"\"\n",
    "\n",
    "    N = Phi.shape[1]\n",
    "    PhiTrans = Phi.transpose()\n",
    "    yNorm = np.linalg.norm(y)\n",
    "    if x0=='zeroVector':\n",
    "        x0 = np.zeros(N)\n",
    "    if haltingRule is None:\n",
    "        eps = 0\n",
    "    else:\n",
    "        haltingRule,eps = haltingRule[0],haltingRule[1]\n",
    "        if haltingRule=='relativeSampleErr':\n",
    "            eps = eps*yNorm #转换为停机的绝对误差限.\n",
    "        else:\n",
    "            print('暂未配置其他停机规则,无返回.')\n",
    "            return\n",
    "    return N,PhiTrans,yNorm,x0,eps"
   ]
  },
  {
   "attachments": {},
   "cell_type": "markdown",
   "metadata": {},
   "source": [
    "# B. errAnalyze()"
   ]
  },
  {
   "cell_type": "code",
   "execution_count": 9,
   "metadata": {},
   "outputs": [],
   "source": [
    "def errAnalyze(xReal,suppReal,x1,N,s,showPrecisionAndRecall,iterCount,eps,y,err,yNorm):\n",
    "    \"\"\"\n",
    "    errAnalyze(xReal,suppReal,x1,N,s,showPrecisionAndRecall,iterCount,eps,y,err,yNorm)\n",
    "        -> dict(\n",
    "            estimate,iterCount,eps,y,errY,relativeErrY,confusion\n",
    "        )\n",
    "    \"\"\"\n",
    "    if not (xReal is None):\n",
    "        if suppReal is None:\n",
    "            suppReal = np.argsort(np.abs(xReal))[:-(s+1):-1] #兼容compressible signal.\n",
    "        \n",
    "        # Compute confusion matrix.\n",
    "        nPositive = np.sum(1-np.isclose(x1,0))\n",
    "        nTruePositive = np.sum(1-np.isclose(x1[suppReal],0))\n",
    "        nFalsePositive = nPositive - nTruePositive\n",
    "        nNegative = N - nPositive\n",
    "        nFalseNegative = np.sum(np.isclose(x1[suppReal],0))\n",
    "        nTrueNegative = nNegative - nFalseNegative\n",
    "\n",
    "        confusion = pd.DataFrame(np.array([\n",
    "            [nTruePositive,nTrueNegative],\n",
    "            [nFalsePositive,nFalseNegative]\n",
    "        ]), columns=['positive','negative'],index=['true','false'])\n",
    "        if showPrecisionAndRecall == True:\n",
    "            print('precision:',nTruePositive/(nTruePositive + nFalsePositive))\n",
    "            print('recall:',nTruePositive/(nTruePositive + nFalseNegative))\n",
    "\n",
    "    else:\n",
    "        confusion = None\n",
    "    \n",
    "    return dict(\n",
    "        estimate=x1,\n",
    "        iterCount=iterCount,\n",
    "        eps=eps,\n",
    "        y=y,\n",
    "        errY=err,\n",
    "        relativeErrY=err/yNorm,\n",
    "        confusion=confusion\n",
    "    )"
   ]
  },
  {
   "attachments": {},
   "cell_type": "markdown",
   "metadata": {},
   "source": [
    "# 3.2 Iterative Hard Thresholding-PKS 函数"
   ]
  },
  {
   "cell_type": "code",
   "execution_count": 10,
   "metadata": {},
   "outputs": [],
   "source": [
    "# IHT-PKS\n",
    "def IHT_PKS(y,Phi,s,x0='zeroVector',T0=[],mu=1, # 学习率\n",
    "        haltingRule=('relativeSampleErr',0.1),maxIteration=1000,xReal=None,suppReal=None,showPrecisionAndRecall=True):\n",
    "    \"\"\"\n",
    "    Return a dict {\n",
    "        estimate: estimate of the (nearly) s-sparse signal x where y=Phi*x,\n",
    "        iterCount: iteration times,\n",
    "        eps: halting l2-norm error bound (not squared) in terms of y,\n",
    "        y: samples,\n",
    "        errY: actual l2-norm error (not squared) in terms of y,\n",
    "        relativeErrY: errY/|y|_2,\n",
    "        confusion: confusion matrix\n",
    "        }.\n",
    "    Print a message if reaching maxIteration.\n",
    "\n",
    "    `y`: Sample vector.\n",
    "    `Phi`: Sensing matrix.\n",
    "    `s`: Sparsity of signal x.\n",
    "    `x0`: (Optional) Initial estimate for x of iteration. Can receive a vector.\n",
    "    `T0`: (Optional) Prior support of x.\n",
    "    `mu`: (Optional) Learning rate.\n",
    "    `haltingRule`: (Optional) By default ('relativeSampleErr',0.1), which halts the iteration when `|y-Phi*x|/|y|<0.1`.\n",
    "    If set to `None`, never halt until maxIteration. \n",
    "    `maxIteration`: (Optional) Halt when iterating these many times.\n",
    "    `xReal`: (Optional) Real x.\n",
    "    `suppReal`: (Optional) Real supp(x), or if x is compressible then by default the largest `s` atoms of x, unless otherwise stated.\n",
    "    `showPrecisionAndRecall`: (Optional) Whether to print precision & recall.\n",
    "    \"\"\"\n",
    "\n",
    "    # Initialize(y,Phi,x0,haltingRule) -> N,PhiTrans,yNorm,x0,eps\n",
    "        # 20230305-已封装至initialize()\n",
    "    \n",
    "    N,PhiTrans,yNorm,x0,eps = initialize(y,Phi,x0,haltingRule)\n",
    "\n",
    "    # N = Phi.shape[1]\n",
    "    # PhiTrans = Phi.transpose()\n",
    "    # yNorm = np.linalg.norm(y)\n",
    "    # if x0=='zeroVector':\n",
    "    #     x0 = np.zeros(N)\n",
    "    # if haltingRule is None:\n",
    "    #     eps = 0\n",
    "    # else:\n",
    "    #     haltingRule,eps = haltingRule[0],haltingRule[1]\n",
    "    #     if haltingRule=='relativeSampleErr':\n",
    "    #         eps = eps*yNorm #转换为停机的绝对误差限.\n",
    "    #     else:\n",
    "    #         print('暂未配置其他停机规则,无返回.')\n",
    "    #         return\n",
    "\n",
    "    # Iterate\n",
    "    for t in range(0,maxIteration):\n",
    "        proxy = x0 + mu*np.dot(PhiTrans,(y-np.dot(Phi,x0))) #矩阵相乘用np.dot().\n",
    "        x1 = hardThreshold(proxy,s,T0)\n",
    "\n",
    "    # 误差与迭代控制, 可复制-----------------:\n",
    "        err = np.linalg.norm(y-np.dot(Phi,x1))\n",
    "        iterCount = t+1\n",
    "\n",
    "        if err<eps:\n",
    "            break\n",
    "        x0 = x1\n",
    "    else:\n",
    "        print('Reach maxIteration!')\n",
    "    # 误差与迭代控制, 可复制-----------------.\n",
    "\n",
    "    # 误差分析, 已封装(20230305)------------:\n",
    "    # if not (xReal is None):\n",
    "    #     if suppReal is None:\n",
    "    #         suppReal = np.argsort(np.abs(xReal))[:-(s+1):-1] #兼容compressible signal.\n",
    "        \n",
    "    #     # Compute confusion matrix.\n",
    "    #     nPositive = np.sum(1-np.isclose(x1,0))\n",
    "    #     nTruePositive = np.sum(1-np.isclose(x1[suppReal],0))\n",
    "    #     nFalsePositive = nPositive - nTruePositive\n",
    "    #     nNegative = N - nPositive\n",
    "    #     nFalseNegative = np.sum(np.isclose(x1[suppReal],0))\n",
    "    #     nTrueNegative = nNegative - nFalseNegative\n",
    "\n",
    "    #     confusion = pd.DataFrame(np.array([\n",
    "    #         [nTruePositive,nTrueNegative],\n",
    "    #         [nFalsePositive,nFalseNegative]\n",
    "    #     ]), columns=['positive','negative'],index=['true','false'])\n",
    "    #     if showPrecisionAndRecall == True:\n",
    "    #         print('precision:',nTruePositive/(nTruePositive + nFalsePositive))\n",
    "    #         print('recall:',nTruePositive/(nTruePositive + nFalseNegative))\n",
    "    \n",
    "    # else:\n",
    "    #     confusion = None\n",
    "    # # -------------------------.\n",
    "    # return dict(\n",
    "    #     estimate=x1,\n",
    "    #     iterCount=iterCount,\n",
    "    #     eps=eps,\n",
    "    #     y=y,\n",
    "    #     errY=err,\n",
    "    #     relativeErrY=err/yNorm,\n",
    "    #     confusion=confusion\n",
    "    # )\n",
    "    return errAnalyze(xReal,suppReal,x1,N,s,showPrecisionAndRecall,iterCount,eps,y,err,yNorm)\n"
   ]
  },
  {
   "attachments": {},
   "cell_type": "markdown",
   "metadata": {},
   "source": [
    "# 4 OMP-PKS"
   ]
  },
  {
   "cell_type": "code",
   "execution_count": 11,
   "metadata": {},
   "outputs": [],
   "source": [
    "def OMP_PKS(y,Phi,s,x0='zeroVector',T0=[],\n",
    "        haltingRule=('relativeSampleErr',0.1),maxIteration=1000,\n",
    "        xReal=None,suppReal=None,showPrecisionAndRecall=True):\n",
    "    \"\"\"\n",
    "    Return a dict {\n",
    "        estimate: estimate of the (nearly) s-sparse signal x where y=Phi*x,\n",
    "        iterCount: iteration times,\n",
    "        eps: halting l2-norm error bound (not squared) in terms of y,\n",
    "        y: samples,\n",
    "        errY: actual l2-norm error (not squared) in terms of y,\n",
    "        relativeErrY: errY/|y|_2,\n",
    "        confusion: confusion matrix\n",
    "        }.\n",
    "    Print a message if reaching maxIteration.\n",
    "    \"\"\"\n",
    "\n",
    "    # Initialization.\n",
    "    N,PhiTrans,yNorm,x0,eps = initialize(y,Phi,x0,haltingRule)\n",
    "    supp = T0 # PKS.\n",
    "\n",
    "    # Iteration.\n",
    "    for t in range(maxIteration):\n",
    "        proxy = np.dot(PhiTrans,(y-np.dot(Phi,x0)))\n",
    "        j = np.argmax(np.abs(proxy))\n",
    "        if j not in supp:\n",
    "            supp.append(j)\n",
    "        x1 = np.zeros(N)\n",
    "        x1[supp] = np.linalg.lstsq(Phi[:,supp].astype(np.float64),y.astype(np.float64),rcond=None)[0]\n",
    "\n",
    "    # 误差与迭代控制, 可复制-----------------:\n",
    "        err = np.linalg.norm(y-np.dot(Phi,x1))\n",
    "        iterCount = t+1\n",
    "\n",
    "        if err<eps:\n",
    "            break\n",
    "        x0 = x1\n",
    "    else:\n",
    "        print('Reach maxIteration!')\n",
    "    # 误差与迭代控制, 可复制-----------------.\n",
    "\n",
    "    return errAnalyze(xReal,suppReal,x1,N,s,showPrecisionAndRecall,iterCount,eps,y,err,yNorm)\n",
    "        \n"
   ]
  },
  {
   "attachments": {},
   "cell_type": "markdown",
   "metadata": {},
   "source": [
    "# 5 CoSaMP-PKS"
   ]
  },
  {
   "cell_type": "code",
   "execution_count": null,
   "metadata": {},
   "outputs": [],
   "source": []
  },
  {
   "attachments": {},
   "cell_type": "markdown",
   "metadata": {},
   "source": [
    "# -1 测试信号生成"
   ]
  },
  {
   "cell_type": "code",
   "execution_count": 12,
   "metadata": {},
   "outputs": [],
   "source": [
    "# Rademacher(1,-1,Prob=0.5) on support.\n",
    "def randSparseSignal(N=2000,s=50,size=10000,returnSupports=False,allowLowerSparsity=False):\n",
    "    \"\"\"\n",
    "    Generate `size` number of signals of dimension `N` and sparsity `s`.\n",
    "    Aranged by columns.\n",
    "\n",
    "    If `returnSupports`=`True` then also return Supports of Signals aranged by columns,\n",
    "    repetitions might be included.\n",
    "    \"\"\"\n",
    "    size = int(size) # 转化形如`1e5`的输入.\n",
    "    V =  np.zeros((N,size),order='F',dtype=np.float32)\n",
    "    Supps = np.array([np.random.choice(range(N),s,replace=allowLowerSparsity) for _ in range(size)])\n",
    "        # 随机抽取支集, 存为每一行.\n",
    "    Entries = np.array(\n",
    "        [np.random.binomial(1,0.5,s).astype(np.float32)*2-1 for _ in range(size)])\n",
    "        # 随机赋予支集项的值, 存为每一行.\n",
    "    for j in range(size):\n",
    "        V[Supps[j],j] = Entries[j]\n",
    "    if returnSupports==True:\n",
    "        return dict(\n",
    "            Signals = V,\n",
    "            Supports = Supps.transpose()\n",
    "        )\n",
    "    else:\n",
    "        return V\n",
    "    "
   ]
  },
  {
   "attachments": {},
   "cell_type": "markdown",
   "metadata": {},
   "source": [
    "# -2 数值测试"
   ]
  },
  {
   "cell_type": "code",
   "execution_count": 14,
   "metadata": {},
   "outputs": [],
   "source": [
    "# Generate A, X.\n",
    "\n",
    "np.random.seed(42)\n",
    "A = randSamplingMatrix(400,1000)\n",
    "XX = randSparseSignal(N=1000,s=50,size=1000,returnSupports=True)\n",
    "X, Supps = XX['Signals']*10,XX['Supports']\n",
    "del XX"
   ]
  },
  {
   "cell_type": "code",
   "execution_count": 19,
   "metadata": {},
   "outputs": [
    {
     "name": "stdout",
     "output_type": "stream",
     "text": [
      "Max singular value: 1.5010402\n",
      "Min singular value: 0.49183258\n"
     ]
    },
    {
     "data": {
      "text/plain": [
       "0.5081674158573151"
      ]
     },
     "execution_count": 19,
     "metadata": {},
     "output_type": "execute_result"
    }
   ],
   "source": [
    "# Mixed test. O(10)sec. 需要的模拟次数可以小于monteCarlo方法, 准确度也更大.\n",
    "RIPtest(A,80).mixedMethod(10000)"
   ]
  },
  {
   "cell_type": "code",
   "execution_count": 21,
   "metadata": {},
   "outputs": [
    {
     "data": {
      "text/plain": [
       "0.16260796785354614"
      ]
     },
     "execution_count": 21,
     "metadata": {},
     "output_type": "execute_result"
    }
   ],
   "source": [
    "# Fast RIP test. O(10)sec.\n",
    "RIPtest(A,80).monteCarlo(show=False)"
   ]
  },
  {
   "cell_type": "code",
   "execution_count": 53,
   "metadata": {},
   "outputs": [],
   "source": [
    "# Test\n",
    "def test(Y,X,times=1000,func=IHT_PKS, **kwargs):\n",
    "    \"\"\"\n",
    "    Run `times` times of `func` function\n",
    "        given `Y`=[y1,...,yt], `X`=[x1,...,xt], and `**kwargs` as other keyword arguments.\n",
    "    Return the results in an array.\n",
    "    \"\"\"\n",
    "    Results = []\n",
    "    for t in range(times):\n",
    "        Results.append(func(y=Y[:,t],xReal=X[:,t],**kwargs))\n",
    "    return Results"
   ]
  },
  {
   "cell_type": "code",
   "execution_count": 54,
   "metadata": {},
   "outputs": [],
   "source": [
    "# Average err.\n",
    "Y = np.dot(A,X)\n",
    "priorSuppRatio = 0.2 # Editable."
   ]
  },
  {
   "cell_type": "code",
   "execution_count": 76,
   "metadata": {},
   "outputs": [
    {
     "name": "stdout",
     "output_type": "stream",
     "text": [
      "Reach maxIteration!\n",
      "precision: 0.12468827930174564\n",
      "recall: 1.0\n",
      "Reach maxIteration!\n",
      "precision: 0.12468827930174564\n",
      "recall: 1.0\n",
      "Reach maxIteration!\n",
      "precision: 0.12468827930174564\n",
      "recall: 1.0\n",
      "Reach maxIteration!\n",
      "precision: 0.12468827930174564\n",
      "recall: 1.0\n",
      "Reach maxIteration!\n",
      "precision: 0.12468827930174564\n",
      "recall: 1.0\n",
      "Reach maxIteration!\n",
      "precision: 0.0773067331670823\n",
      "recall: 0.62\n",
      "Reach maxIteration!\n",
      "precision: 0.04488778054862843\n",
      "recall: 0.36\n",
      "Reach maxIteration!\n",
      "precision: 0.04987531172069826\n",
      "recall: 0.4\n",
      "Reach maxIteration!\n",
      "precision: 0.06733167082294264\n",
      "recall: 0.54\n",
      "Reach maxIteration!\n",
      "precision: 0.06234413965087282\n",
      "recall: 0.5\n"
     ]
    },
    {
     "data": {
      "text/plain": [
       "(array([5., 1., 1., 2., 0., 0., 0., 0., 0., 1.]),\n",
       " array([2.49231757e-15, 3.47567971e-15, 4.45904185e-15, 5.44240399e-15,\n",
       "        6.42576614e-15, 7.40912828e-15, 8.39249042e-15, 9.37585256e-15,\n",
       "        1.03592147e-14, 1.13425768e-14, 1.23259390e-14]),\n",
       " <BarContainer object of 10 artists>)"
      ]
     },
     "execution_count": 76,
     "metadata": {},
     "output_type": "execute_result"
    },
    {
     "data": {
      "image/png": "[encoded data removed]",
      "text/plain": [
       "<Figure size 640x480 with 1 Axes>"
      ]
     },
     "metadata": {},
     "output_type": "display_data"
    }
   ],
   "source": [
    "# OMP-PKS: Precision较低, 因为没有硬阈值.\n",
    "Results = test(Y,X,times=10,func=OMP_PKS,Phi=A,s=50,haltingRule=None,maxIteration=50)\n",
    "Errs = list(map(lambda l:l['relativeErrY'],Results))\n",
    "plt.hist(Errs,10)"
   ]
  },
  {
   "attachments": {},
   "cell_type": "markdown",
   "metadata": {},
   "source": [
    "# Debug region"
   ]
  },
  {
   "cell_type": "code",
   "execution_count": 11,
   "metadata": {},
   "outputs": [
    {
     "data": {
      "text/plain": [
       "2"
      ]
     },
     "execution_count": 11,
     "metadata": {},
     "output_type": "execute_result"
    }
   ],
   "source": [
    "np.argmax(np.abs([1,2,-3]))"
   ]
  },
  {
   "cell_type": "code",
   "execution_count": 12,
   "metadata": {},
   "outputs": [
    {
     "data": {
      "text/plain": [
       "False"
      ]
     },
     "execution_count": 12,
     "metadata": {},
     "output_type": "execute_result"
    }
   ],
   "source": [
    "1 not in [1,2]"
   ]
  },
  {
   "cell_type": "code",
   "execution_count": 59,
   "metadata": {},
   "outputs": [
    {
     "name": "stderr",
     "output_type": "stream",
     "text": [
      "C:\\Users\\xndliu\\AppData\\Local\\Temp\\ipykernel_1040\\3024612011.py:1: FutureWarning: `rcond` parameter will change to the default of machine precision times ``max(M, N)`` where M and N are the input matrix dimensions.\n",
      "To use the future default and silence this warning we advise to pass `rcond=None`, to keep using the old, explicitly pass `rcond=-1`.\n",
      "  np.linalg.lstsq([[1,2],[3,4]],np.array([1,2]))\n"
     ]
    },
    {
     "data": {
      "text/plain": [
       "(array([0. , 0.5]),\n",
       " array([], dtype=float64),\n",
       " 2,\n",
       " array([5.4649857 , 0.36596619]))"
      ]
     },
     "execution_count": 59,
     "metadata": {},
     "output_type": "execute_result"
    }
   ],
   "source": [
    "np.linalg.lstsq([[1,2],[3,4]],np.array([1,2]))"
   ]
  },
  {
   "cell_type": "code",
   "execution_count": null,
   "metadata": {},
   "outputs": [],
   "source": []
  }
 ],
 "metadata": {
  "kernelspec": {
   "display_name": "bachelorThesis",
   "language": "python",
   "name": "python3"
  },
  "language_info": {
   "codemirror_mode": {
    "name": "ipython",
    "version": 3
   },
   "file_extension": ".py",
   "mimetype": "text/x-python",
   "name": "python",
   "nbconvert_exporter": "python",
   "pygments_lexer": "ipython3",
   "version": "3.9.15"
  },
  "orig_nbformat": 4,
  "vscode": {
   "interpreter": {
    "hash": "0fa5ea0a09a8cd9d0aa4e6bbb526a74c2e7a420b3d09cd1311bf211743dd137b"
   }
  }
 },
 "nbformat": 4,
 "nbformat_minor": 2
}
